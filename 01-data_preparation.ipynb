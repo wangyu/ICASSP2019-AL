{
 "cells": [
  {
   "cell_type": "code",
   "execution_count": 139,
   "metadata": {},
   "outputs": [],
   "source": [
    "import pickle\n",
    "import numpy as np\n",
    "import sys\n",
    "import os\n",
    "import pandas as pd\n",
    "import csv\n",
    "import random\n",
    "from sklearn.model_selection import train_test_split"
   ]
  },
  {
   "cell_type": "code",
   "execution_count": 19,
   "metadata": {},
   "outputs": [],
   "source": [
    "data_path = '/scratch/yw3004/projects/ICASSP2019-AL/data'"
   ]
  },
  {
   "cell_type": "markdown",
   "metadata": {},
   "source": [
    "# 1. Load data"
   ]
  },
  {
   "cell_type": "code",
   "execution_count": 20,
   "metadata": {},
   "outputs": [
    {
     "data": {
      "text/plain": [
       "array(['b827eb0d8af7', 'b827eb0fedda', 'b827eb122f0f', 'b827eb1685c7',\n",
       "       'b827eb2a1bce', 'b827eb429cd4', 'b827eb42bd4a', 'b827eb44506f',\n",
       "       'b827eb4e7821', 'b827eb5895e9', 'b827eb815321', 'b827eb86d458',\n",
       "       'b827eb8e2420', 'b827eb9bed23', 'b827ebad073b'], dtype='<U12')"
      ]
     },
     "execution_count": 20,
     "metadata": {},
     "output_type": "execute_result"
    }
   ],
   "source": [
    "negative_xy = pickle.load(open(os.path.join(data_path, 'negative_xy_allInfo.pickle'), \"rb\" )) \n",
    "positive_xy = pickle.load(open(os.path.join(data_path, 'positive_xy_allInfo.pickle'), \"rb\" ))\n",
    "sens= []\n",
    "for i in range(negative_xy.shape[0]):\n",
    "    sens.append(negative_xy[i,-3])\n",
    "\n",
    "unique_sensors = np.unique(sens)\n",
    "unique_sensors"
   ]
  },
  {
   "cell_type": "markdown",
   "metadata": {},
   "source": [
    "# 2. Split train/val/test (3/1/1) for 5-fold CV"
   ]
  },
  {
   "cell_type": "code",
   "execution_count": 92,
   "metadata": {},
   "outputs": [],
   "source": [
    "for i in range(5):\n",
    "    test_sensors = unique_sensors[3*i:3*(i+1)]\n",
    "    training_sensors = np.concatenate((unique_sensors[:3*i], unique_sensors[3*(i+1):]))\n",
    "    \n",
    "    #random train/val split in training sensors\n",
    "    train_sensors, val_sensors = train_test_split(training_sensors,test_size=0.25)\n",
    "    \n",
    "    #select one train sensor\n",
    "    train_sensor = np.array(random.choice(train_sensors))\n",
    "    \n",
    "    with open(os.path.join(data_path, 'test_sensors_'+str(i+1)+'.pickle'), 'wb') as f:\n",
    "        pickle.dump(test_sensors, f, protocol=pickle.HIGHEST_PROTOCOL)\n",
    "    with open(os.path.join(data_path, 'val_sensors_'+str(i+1)+'.pickle'), 'wb') as f:\n",
    "        pickle.dump(val_sensors, f, protocol=pickle.HIGHEST_PROTOCOL)\n",
    "    with open(os.path.join(data_path, 'train_sensors_all_'+str(i+1)+'.pickle'), 'wb') as f:\n",
    "        pickle.dump(train_sensors, f, protocol=pickle.HIGHEST_PROTOCOL)\n",
    "    with open(os.path.join(data_path, 'train_sensor_'+str(i+1)+'.pickle'), 'wb') as f:\n",
    "        pickle.dump(train_sensor, f, protocol=pickle.HIGHEST_PROTOCOL)"
   ]
  },
  {
   "cell_type": "markdown",
   "metadata": {},
   "source": [
    "# 3. Build Xs, ys"
   ]
  },
  {
   "cell_type": "code",
   "execution_count": 140,
   "metadata": {},
   "outputs": [],
   "source": [
    "def build_xy(data_path, category, cv_round):\n",
    "    if category == 'train_all':\n",
    "        sensors = pickle.load(open(os.path.join(data_path, 'train_sensors_all_'+str(cv_round)+'.pickle'), \"rb\" ))\n",
    "        n = 9*20\n",
    "    elif category == 'train':\n",
    "        sensors = pickle.load(open(os.path.join(data_path, 'train_sensor_'+str(cv_round)+'.pickle'), \"rb\" ))\n",
    "        n = 1*20\n",
    "    else:\n",
    "        sensors = pickle.load(open(os.path.join(data_path, category+'_sensors_'+str(cv_round)+'.pickle'), \"rb\" ))\n",
    "        n = 3*20\n",
    "\n",
    "    positives = np.empty((n,positive_xy.shape[1]),dtype=object)\n",
    "    j = 0 \n",
    "    for i in range(positive_xy.shape[0]): \n",
    "        if positive_xy[i,-3] in sensors:\n",
    "            positives[j,:]= positive_xy[i]\n",
    "            j=j+1\n",
    "        \n",
    "    negatives = np.empty((n,negative_xy.shape[1]),dtype=object)\n",
    "    j = 0 \n",
    "    for i in range(negative_xy.shape[0]): \n",
    "        if negative_xy[i,-3] in sensors:\n",
    "            negatives[j,:]= negative_xy[i]\n",
    "            j=j+1\n",
    "            \n",
    "    #Concatenate train examples together and shuffle, or build X_pool   \n",
    "    if category == 'train':\n",
    "        np.random.shuffle(positives)\n",
    "        np.random.shuffle(negatives)\n",
    "        comb = np.vstack((positives[0,:], negatives[0,:]))\n",
    "    else:\n",
    "        comb = np.concatenate((positives, negatives),axis=0)\n",
    "        np.random.shuffle(comb)\n",
    "    \n",
    "    #Separate x and y and info\n",
    "    X = comb[:,:-4]\n",
    "    X = x.astype(int)\n",
    "    y = comb[:,-4]\n",
    "    y = y.astype(int)\n",
    "    info = comb[:,-3:]\n",
    "    info[:,1] = info[:,1].astype(float)\n",
    "    info[:,2] = info[:,2].astype(int)\n",
    "    \n",
    "    with open(os.path.join(data_path, 'X_'+category+'_'+str(cv_round)+'.pickle'), 'wb') as f:\n",
    "        pickle.dump(X, f, protocol=pickle.HIGHEST_PROTOCOL) \n",
    "    with open(os.path.join(data_path, 'y_'+category+'_'+str(cv_round)+'.pickle'), 'wb') as f:\n",
    "        pickle.dump(y, f, protocol=pickle.HIGHEST_PROTOCOL) \n",
    "    with open(os.path.join(data_path, 'info_'+category+'_'+str(cv_round)+'.pickle'), 'wb') as f:\n",
    "        pickle.dump(info, f, protocol=pickle.HIGHEST_PROTOCOL) "
   ]
  },
  {
   "cell_type": "code",
   "execution_count": 141,
   "metadata": {},
   "outputs": [],
   "source": [
    "cv_rounds = range(1,6)\n",
    "categories = ['train_all', 'train', 'val', 'test']"
   ]
  },
  {
   "cell_type": "code",
   "execution_count": 95,
   "metadata": {},
   "outputs": [],
   "source": [
    "for category in categories:\n",
    "    for cv_round in cv_rounds:\n",
    "        build_xy(data_path, category, cv_round)"
   ]
  },
  {
   "cell_type": "markdown",
   "metadata": {},
   "source": [
    "# 4. Build X_pool #"
   ]
  },
  {
   "cell_type": "code",
   "execution_count": 137,
   "metadata": {},
   "outputs": [],
   "source": [
    "X_pool = pickle.load(open(os.path.join(data_path, 'X_pool_100000_random.pickle'), \"rb\" ))"
   ]
  },
  {
   "cell_type": "code",
   "execution_count": 138,
   "metadata": {},
   "outputs": [],
   "source": [
    "for i in range(5):\n",
    "    X_train_all = pickle.load(open(os.path.join(data_path, 'X_train_all_'+str(i+1)+'.pickle'), \"rb\" ))\n",
    "    y_train_all = pickle.load(open(os.path.join(data_path, 'y_train_all_'+str(i+1)+'.pickle'), \"rb\" ))\n",
    "    info_train_all = pickle.load(open(os.path.join(data_path, 'info_train_all_'+str(i+1)+'.pickle'), \"rb\" ))\n",
    "    y_train_all = y_train_all.reshape(-1,1)\n",
    "    comb = np.hstack((X_train_all, info_train_all, y_train_all))\n",
    "    \n",
    "    X_pool_cv = np.vstack((X_pool, comb))\n",
    "    with open(os.path.join(data_path, 'X_pool_'+str(i+1)+'.pickle'), 'wb') as f:\n",
    "        pickle.dump(X_pool_cv, f, protocol=pickle.HIGHEST_PROTOCOL)"
   ]
  }
 ],
 "metadata": {
  "kernelspec": {
   "display_name": "active_learning",
   "language": "python",
   "name": "active_learning"
  },
  "language_info": {
   "codemirror_mode": {
    "name": "ipython",
    "version": 3
   },
   "file_extension": ".py",
   "mimetype": "text/x-python",
   "name": "python",
   "nbconvert_exporter": "python",
   "pygments_lexer": "ipython3",
   "version": "3.6.5"
  }
 },
 "nbformat": 4,
 "nbformat_minor": 2
}
